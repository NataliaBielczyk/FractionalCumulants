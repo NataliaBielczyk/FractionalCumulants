{
 "cells": [
  {
   "cell_type": "code",
   "execution_count": 1,
   "metadata": {},
   "outputs": [],
   "source": [
    "# the code compatible with Python 2.7\n",
    "import pandas as pd\n",
    "import numpy as np\n",
    "import scipy\n",
    "import scipy.stats\n",
    "import matplotlib.pyplot as plt\n",
    "import scipy.io as sio\n",
    "from __future__ import division\n",
    "import math"
   ]
  },
  {
   "cell_type": "code",
   "execution_count": 2,
   "metadata": {},
   "outputs": [
    {
     "data": {
      "image/png": "[encoded data removed]",
      "text/plain": [
       "<Figure size 432x288 with 2 Axes>"
      ]
     },
     "metadata": {},
     "output_type": "display_data"
    }
   ],
   "source": [
    "'''\n",
    "    load and plot the binary benchmark cumulant maps:\n",
    "'''\n",
    "maps = sio.loadmat('binary_maps.mat')\n",
    "f, (ax1, ax2) = plt.subplots(1, 2, sharey=True)\n",
    "ax1.imshow(maps['real_map'], cmap='jet')\n",
    "ax1.set_title('real')\n",
    "ax2.imshow(maps['imag_map'], cmap='jet')\n",
    "ax2.set_title('imag')\n",
    "plt.show()"
   ]
  },
  {
   "cell_type": "code",
   "execution_count": 3,
   "metadata": {},
   "outputs": [],
   "source": [
    "'''\n",
    "    define cumulant:\n",
    "'''\n",
    "\n",
    "def cumulant(x, y, k, l): \n",
    "    '''Compute cumulant of orders (k,l) on paired signals (x,y) \n",
    "    x, y should be given as a (N x 1) or (1 x N) numpy ndarray \n",
    "    k, l should be given as rational numbers, either integers or floats\n",
    "    ''' \n",
    "    \n",
    "    if type(x) != np.ndarray or type(y) != np.ndarray: \n",
    "        return 'data of a wrong type: time series (x, y) should be given as a (N x 1) or (1 x N) numpy ndarray' \n",
    "    if x.shape != y.shape: \n",
    "        return 'time series (x, y) do not match in size!' \n",
    "    if x.ndim != 2 or y.ndim != 2: \n",
    "        return 'time series (x, y) of wrong dimensions; should be (N x 1) or (1 x N) numpy ndarray' \n",
    "\n",
    "    N = np.max([x.shape[0], x.shape[1]])\n",
    "    cumm = 0\n",
    "    for ind in range(N):\n",
    "        cumm += (1/N)*(complex(x[ind])**float(k))*(complex(y[ind])**float(l)) - \\\n",
    "        (complex(y[ind])**float(k))*(complex(x[ind])**float(l))\n",
    "    return [float(np.real(cumm)), float(np.imag(cumm))]"
   ]
  },
  {
   "cell_type": "code",
   "execution_count": 4,
   "metadata": {},
   "outputs": [],
   "source": [
    "'''\n",
    "    define the discount function for for weighting cumulants:\n",
    "'''\n",
    "def flc(c):\n",
    "    return math.log(math.cosh(np.max([c,0])))"
   ]
  },
  {
   "cell_type": "code",
   "execution_count": 5,
   "metadata": {},
   "outputs": [],
   "source": [
    "''' specify the range for cumulant orders for the classification\n",
    "    (the range was chosen as explained in the manuscript, \n",
    "    chapter 'Supervised learning using synthetic benchmark datasets')\n",
    "        delta: interval which must fit the benchmark maps derived for this particular problem (see above)\n",
    "'''\n",
    "delta      = maps['delta']\n",
    "range_real = [0.1, 2.1] \n",
    "range_imag = [0.1, 3.7]\n",
    "\n",
    "Nk         = int(np.floor((range_real[1] - range_real[0])/delta)) + 1\n",
    "Nl         = int(np.floor((range_imag[1] - range_imag[0])/delta)) + 1\n",
    "k_range    = range_real[0] + delta*np.arange(Nk)\n",
    "l_range    = range_imag[0] + delta*np.arange(Nl)"
   ]
  },
  {
   "cell_type": "code",
   "execution_count": 6,
   "metadata": {},
   "outputs": [],
   "source": [
    "# define the classifier:\n",
    "def classify(x, y, k, l, Nk, Nl):\n",
    "    outcome = 0.0\n",
    "    for ind0 in range(Nk):\n",
    "        for ind1 in range(Nl):\n",
    "            outcome += maps['real_map'][ind0,ind1]*flc(cumulant(x,y,k_range[ind0],l_range[ind1])[0]) + \\\n",
    "                 maps['imag_map'][ind0,ind1]*flc(cumulant(x,y,k_range[ind0],l_range[ind1])[1])\n",
    "    return float(outcome)"
   ]
  },
  {
   "cell_type": "code",
   "execution_count": null,
   "metadata": {},
   "outputs": [],
   "source": []
  }
 ],
 "metadata": {
  "kernelspec": {
   "display_name": "Python 2",
   "language": "python",
   "name": "python2"
  },
  "language_info": {
   "codemirror_mode": {
    "name": "ipython",
    "version": 2
   },
   "file_extension": ".py",
   "mimetype": "text/x-python",
   "name": "python",
   "nbconvert_exporter": "python",
   "pygments_lexer": "ipython2",
   "version": "2.7.15"
  }
 },
 "nbformat": 4,
 "nbformat_minor": 2
}
